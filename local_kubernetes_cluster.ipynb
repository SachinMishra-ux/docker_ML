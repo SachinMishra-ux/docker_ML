{
 "cells": [
  {
   "cell_type": "code",
   "execution_count": null,
   "metadata": {},
   "outputs": [],
   "source": []
  },
  {
   "cell_type": "code",
   "execution_count": 1,
   "metadata": {},
   "outputs": [
    {
     "name": "stdout",
     "output_type": "stream",
     "text": [
      "  % Total    % Received % Xferd  Average Speed   Time    Time     Time  Current\n",
      "                                 Dload  Upload   Total   Spent    Left  Speed\n",
      "100    96  100    96    0     0    135      0 --:--:-- --:--:-- --:--:--   138\n",
      "  0     0    0     0    0     0      0      0 --:--:--  0:00:01 --:--:--     0\n",
      "100 7247k  100 7247k    0     0  1033k      0  0:00:07  0:00:07 --:--:-- 1410k\n",
      "Password:\n",
      "sudo: a password is required\n"
     ]
    }
   ],
   "source": [
    "!curl -Lo ./kind https://kind.sigs.k8s.io/dl/v0.9.0/kind-linux-amd64\n",
    "!chmod +x ./kind\n",
    "!sudo mv ./kind /usr/local/bin"
   ]
  },
  {
   "cell_type": "code",
   "execution_count": 3,
   "metadata": {},
   "outputs": [
    {
     "name": "stdout",
     "output_type": "stream",
     "text": [
      "\u001b[37m# three node (two workers) cluster config\u001b[39;49;00m\u001b[37m\u001b[39;49;00m\n",
      "\u001b[94mkind\u001b[39;49;00m:\u001b[37m \u001b[39;49;00mCluster\u001b[37m\u001b[39;49;00m\n",
      "\u001b[94mapiVersion\u001b[39;49;00m:\u001b[37m \u001b[39;49;00mkind.x-k8s.io/v1alpha4\u001b[37m\u001b[39;49;00m\n",
      "\u001b[94mnodes\u001b[39;49;00m:\u001b[37m\u001b[39;49;00m\n",
      "-\u001b[37m \u001b[39;49;00m\u001b[94mrole\u001b[39;49;00m:\u001b[37m \u001b[39;49;00mcontrol-plane\u001b[37m\u001b[39;49;00m\n",
      "-\u001b[37m \u001b[39;49;00m\u001b[94mrole\u001b[39;49;00m:\u001b[37m \u001b[39;49;00mworker\u001b[37m\u001b[39;49;00m\n",
      "-\u001b[37m \u001b[39;49;00m\u001b[94mrole\u001b[39;49;00m:\u001b[37m \u001b[39;49;00mworker\u001b[37m\u001b[39;49;00m\n"
     ]
    }
   ],
   "source": [
    "!pygmentize kind-config.yaml"
   ]
  },
  {
   "cell_type": "code",
   "execution_count": 4,
   "metadata": {},
   "outputs": [
    {
     "name": "stdout",
     "output_type": "stream",
     "text": [
      "/bin/bash: kind: command not found\n"
     ]
    }
   ],
   "source": [
    "!kind create cluster --name \"placement-classifier\" --config kind-config.yaml"
   ]
  }
 ],
 "metadata": {
  "kernelspec": {
   "display_name": "fastapi-deployment",
   "language": "python",
   "name": "python3"
  },
  "language_info": {
   "codemirror_mode": {
    "name": "ipython",
    "version": 3
   },
   "file_extension": ".py",
   "mimetype": "text/x-python",
   "name": "python",
   "nbconvert_exporter": "python",
   "pygments_lexer": "ipython3",
   "version": "3.8.5"
  },
  "orig_nbformat": 4
 },
 "nbformat": 4,
 "nbformat_minor": 2
}
